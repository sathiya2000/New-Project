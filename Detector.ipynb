{
 "cells": [
  {
   "cell_type": "markdown",
   "metadata": {},
   "source": [
    "<h1 align=\"center\"> Automotive Electronics Assignment </h1>"
   ]
  },
  {
   "cell_type": "markdown",
   "metadata": {},
   "source": [
    "<h2 align=\"center\"> Project Lane Detection </h2>"
   ]
  },
  {
   "cell_type": "markdown",
   "metadata": {},
   "source": [
    "<h3 align=\"right\"> SathiyaNarayanan P<br>17BEC167</h3>"
   ]
  },
  {
   "cell_type": "markdown",
   "metadata": {},
   "source": [
    "### Project Description:\n",
    "   This Project is based on the Opencv python module.Identifying the lanes in the roads is common task.This is critical task for automonous vehicle to perform.Here This project based on the simple Lane detection pipeline with computer vision technique.For more info check  [GitHub Link](https://github.com/sathiya2000/New-Project.git)"
   ]
  },
  {
   "cell_type": "markdown",
   "metadata": {},
   "source": [
    "## Import Packages"
   ]
  },
  {
   "cell_type": "code",
   "execution_count": null,
   "metadata": {},
   "outputs": [],
   "source": [
    "%matplotlib inline\n",
    "%reload_ext autoreload\n",
    "%autoreload 2"
   ]
  },
  {
   "cell_type": "code",
   "execution_count": null,
   "metadata": {},
   "outputs": [],
   "source": [
    "import cv2\n",
    "from module import *\n",
    "import matplotlib.pyplot as plt\n",
    "import matplotlib.image as mpimg\n",
    "import numpy as np\n",
    "import os"
   ]
  },
  {
   "cell_type": "markdown",
   "metadata": {},
   "source": [
    "## Read in an Image"
   ]
  },
  {
   "cell_type": "code",
   "execution_count": null,
   "metadata": {},
   "outputs": [],
   "source": [
    "image = mpimg.imread('images/solidWhiteRight.jpg')\n",
    "\n",
    "print('This image is:', type(image), 'with dimensions:', image.shape)\n",
    "plt.imshow(image)"
   ]
  },
  {
   "cell_type": "markdown",
   "metadata": {},
   "source": [
    "## Test Image"
   ]
  },
  {
   "cell_type": "code",
   "execution_count": null,
   "metadata": {},
   "outputs": [],
   "source": [
    "PATH = \"images\"\n",
    "test_imgs = os.listdir(PATH)\n",
    "test_imgs"
   ]
  },
  {
   "cell_type": "markdown",
   "metadata": {},
   "source": [
    "## Color Selection"
   ]
  },
  {
   "cell_type": "code",
   "execution_count": null,
   "metadata": {},
   "outputs": [],
   "source": [
    "img_list = [read_img(PATH +\"/\" + name) for name in test_imgs]\n",
    "display_imgs(img_list, test_imgs)\n",
    "display_imgs(img_list, test_imgs)\n",
    "save_imgs(img_list, test_imgs, prefix= \"Original\")"
   ]
  },
  {
   "cell_type": "code",
   "execution_count": null,
   "metadata": {},
   "outputs": [],
   "source": [
    "diff_color_spaces_imgs = []\n",
    "diff_color_spaces_labels = []\n",
    "for i in range(len(img_list)):\n",
    "    diff_color_spaces_imgs.append(img_list[i])\n",
    "    diff_color_spaces_labels.append(\"RGB: \" +test_imgs[i])\n",
    "    diff_color_spaces_imgs.append(to_hsv(img_list[i]))\n",
    "    diff_color_spaces_labels.append(\"HSV: \" +test_imgs[i])\n",
    "    diff_color_spaces_imgs.append(to_hls(img_list[i]))\n",
    "    diff_color_spaces_labels.append(\"HLS: \" +test_imgs[i])\n",
    "    \n",
    "display_imgs(diff_color_spaces_imgs, diff_color_spaces_labels, cols=3)"
   ]
  },
  {
   "cell_type": "code",
   "execution_count": null,
   "metadata": {},
   "outputs": [],
   "source": [
    "original_imgs = np.copy(img_list)"
   ]
  },
  {
   "cell_type": "markdown",
   "metadata": {},
   "source": [
    "## Make original image gray"
   ]
  },
  {
   "cell_type": "code",
   "execution_count": null,
   "metadata": {},
   "outputs": [],
   "source": [
    "gray_imgs = [grayscale(img) for img in img_list]\n",
    "display_imgs(gray_imgs, test_imgs)\n",
    "save_imgs(gray_imgs, test_imgs, prefix=\"Gray\")"
   ]
  },
  {
   "cell_type": "markdown",
   "metadata": {},
   "source": [
    "## Darker image"
   ]
  },
  {
   "cell_type": "code",
   "execution_count": null,
   "metadata": {},
   "outputs": [],
   "source": [
    "darkened_imgs = [adjust_gamma(img, 0.5) for img in gray_imgs]\n",
    "display_imgs(darkened_imgs, test_imgs)\n",
    "save_imgs(darkened_imgs, test_imgs, prefix=\"Darkened\")"
   ]
  },
  {
   "cell_type": "markdown",
   "metadata": {},
   "source": [
    "## RGB Color space - color Selection"
   ]
  },
  {
   "cell_type": "code",
   "execution_count": null,
   "metadata": {
    "scrolled": true
   },
   "outputs": [],
   "source": [
    "white_masks = [isolate_color_mask(img, np.array([210, 210, 210], dtype=np.uint8), np.array([255, 255, 255], dtype=np.uint8)) for img in img_list]\n",
    "yellow_masks = [isolate_color_mask(img, np.array([190, 190, 0], dtype=np.uint8), np.array([255, 255, 255], dtype=np.uint8)) for img in img_list]\n",
    "masked_imgs = []\n",
    "for i in range(len(img_list)):\n",
    "    mask = cv2.bitwise_or(white_masks[i], yellow_masks[i])\n",
    "    masked_imgs.append(cv2.bitwise_and(darkened_imgs[i], darkened_imgs[i], mask=mask))\n",
    "\n",
    "display_imgs(masked_imgs, test_imgs)"
   ]
  },
  {
   "cell_type": "markdown",
   "metadata": {},
   "source": [
    "## HLS Color Space - Color selection"
   ]
  },
  {
   "cell_type": "code",
   "execution_count": null,
   "metadata": {},
   "outputs": [],
   "source": [
    "white_masks = []\n",
    "yellow_masks = []\n",
    "white_masks = [isolate_color_mask(to_hls(img), np.array([0, 200, 0], dtype=np.uint8), np.array([200, 255, 255], dtype=np.uint8)) for img in original_imgs]\n",
    "yellow_masks = [isolate_color_mask(to_hls(img), np.array([10, 0, 100], dtype=np.uint8), np.array([40, 255, 255], dtype=np.uint8)) for img in original_imgs]\n",
    "masked_imgs = []\n",
    "for i in range(len(original_imgs)):\n",
    "    mask = cv2.bitwise_or(white_masks[i], yellow_masks[i])\n",
    "    masked_imgs.append(cv2.bitwise_and(darkened_imgs[i], darkened_imgs[i], mask=mask))\n",
    "\n",
    "display_imgs(masked_imgs, test_imgs)\n",
    "save_imgs(masked_imgs, test_imgs, prefix='Color_Mask')"
   ]
  },
  {
   "cell_type": "markdown",
   "metadata": {},
   "source": [
    "## Gaussian Blur"
   ]
  },
  {
   "cell_type": "code",
   "execution_count": null,
   "metadata": {},
   "outputs": [],
   "source": [
    "blurred_imgs = [gaussian_blur(img, kernel_size=7) for img in masked_imgs]\n",
    "display_imgs(blurred_imgs, test_imgs)\n",
    "save_imgs(blurred_imgs, test_imgs, prefix='Gaussian')"
   ]
  },
  {
   "cell_type": "markdown",
   "metadata": {},
   "source": [
    "## Canny Edge Detector"
   ]
  },
  {
   "cell_type": "code",
   "execution_count": null,
   "metadata": {},
   "outputs": [],
   "source": [
    "canny_imgs = [canny(img, low_threshold=70, high_threshold=140) for img in blurred_imgs]\n",
    "display_imgs(canny_imgs, test_imgs)\n",
    "save_imgs(canny_imgs, test_imgs, prefix='Canny')"
   ]
  },
  {
   "cell_type": "markdown",
   "metadata": {},
   "source": [
    "## Area of interest"
   ]
  },
  {
   "cell_type": "code",
   "execution_count": null,
   "metadata": {},
   "outputs": [],
   "source": [
    "aoi_imgs = []\n",
    "\n",
    "for img in canny_imgs:        \n",
    "    aoi_imgs.append(get_aoi(img))\n",
    "    \n",
    "display_imgs(aoi_imgs, test_imgs)\n",
    "save_imgs(aoi_imgs, test_imgs, prefix='AOI')"
   ]
  },
  {
   "cell_type": "markdown",
   "metadata": {},
   "source": [
    "## Hough Transform Line Detection"
   ]
  },
  {
   "cell_type": "code",
   "execution_count": null,
   "metadata": {},
   "outputs": [],
   "source": [
    "hough_lines_imgs = []\n",
    "lines = []\n",
    "for img in aoi_imgs:\n",
    "    lines.append(get_hough_lines(img))\n",
    "    \n",
    "for img, line in zip(original_imgs, lines):\n",
    "    hough_lines_imgs.append(draw_lines(img, line))\n",
    "    \n",
    "display_imgs(hough_lines_imgs, test_imgs)\n",
    "save_imgs(hough_lines_imgs, test_imgs, prefix='Hough')"
   ]
  },
  {
   "cell_type": "markdown",
   "metadata": {},
   "source": [
    "## Extrapolating Lines"
   ]
  },
  {
   "cell_type": "code",
   "execution_count": null,
   "metadata": {},
   "outputs": [],
   "source": [
    "lane_lines_imgs =[]\n",
    "\n",
    "for img, line in zip(original_imgs, lines):\n",
    "    left_lane, right_lane = get_lane_lines(img, line)\n",
    "    lane_lines_imgs.append(draw_weighted_lines(img, [left_lane, right_lane], thickness= 15))\n",
    "    \n",
    "display_imgs(lane_lines_imgs, test_imgs)\n",
    "save_imgs(lane_lines_imgs, test_imgs, prefix='Extrapolation')"
   ]
  }
 ],
 "metadata": {
  "kernelspec": {
   "display_name": "Python 3",
   "language": "python",
   "name": "python3"
  },
  "language_info": {
   "codemirror_mode": {
    "name": "ipython",
    "version": 3
   },
   "file_extension": ".py",
   "mimetype": "text/x-python",
   "name": "python",
   "nbconvert_exporter": "python",
   "pygments_lexer": "ipython3",
   "version": "3.7.6"
  }
 },
 "nbformat": 4,
 "nbformat_minor": 2
}
